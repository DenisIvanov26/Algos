{
 "cells": [
  {
   "cell_type": "code",
   "execution_count": null,
   "id": "5feee9ce-b639-4040-98bc-763d30fffd2e",
   "metadata": {
    "tags": []
   },
   "outputs": [],
   "source": [
    "import vectorbt as vbt\n",
    "import pandas as pd\n",
    "import config\n",
    "from strategy import *\n",
    "%run strategy.py\n",
    "\n",
    "coindata = vbt.CCXTData.download_symbol(symbol=config.COINPAIR ,exchange = config.EXCHANGE ,config = config.EXCHANGECONFIG, start=\"1000 days ago UTC\", timeframe = \"5m\")\n",
    "coindata = coindata[:-1]\n",
    "print(coindata)\n",
    "#coindata.to_csv('data/coindata.csv')"
   ]
  },
  {
   "cell_type": "code",
   "execution_count": null,
   "id": "ca7ece37",
   "metadata": {},
   "outputs": [],
   "source": [
    "tech_data = technical_strategy(coindata)\n",
    "acc = manager(tech_data)"
   ]
  },
  {
   "cell_type": "code",
   "execution_count": null,
   "id": "65536cd2",
   "metadata": {},
   "outputs": [],
   "source": [
    "entries = acc.order_test_df()['entry']\n",
    "exits = acc.order_test_df()['exit']\n",
    "pf_long = vbt.Portfolio.from_signals(coindata.get('Close'),entries=entries,exits=exits, init_cash=1000, fees = 0.0004)\n",
    "pf_short = vbt.Portfolio.from_signals(coindata.get('Close'),short_entries=exits, short_exits=entries, init_cash=1000, fees = 0.0004)\n",
    "pf_both = vbt.Portfolio.from_signals(coindata.get('Close'),entries=entries,exits=exits, short_entries=exits, short_exits=entries, init_cash=1000, fees = 0.0004)\n",
    "#pf_both.plot().show()\n",
    "portfolio_df = pd.concat([pf_long.stats(), pf_short.stats(), pf_both.stats()], axis=1)\n",
    "portfolio_df.columns = ['Long', 'Short', 'Both']\n",
    "portfolio_df.to_html('data/performance.html')\n",
    "portfolio_df"
   ]
  }
 ],
 "metadata": {
  "interpreter": {
   "hash": "a5dc10f2cff4ee6452eb0636f037a5c10c02270b6c0680ab34f71641d960e1c2"
  },
  "kernelspec": {
   "display_name": "Python 3.9.6 64-bit",
   "language": "python",
   "name": "python3"
  },
  "language_info": {
   "codemirror_mode": {
    "name": "ipython",
    "version": 3
   },
   "file_extension": ".py",
   "mimetype": "text/x-python",
   "name": "python",
   "nbconvert_exporter": "python",
   "pygments_lexer": "ipython3",
   "version": "3.9.6"
  }
 },
 "nbformat": 4,
 "nbformat_minor": 5
}
